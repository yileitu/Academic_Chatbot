{
 "cells": [
  {
   "cell_type": "code",
   "execution_count": 2,
   "metadata": {},
   "outputs": [],
   "source": [
    "import surprise\n"
   ]
  },
  {
   "cell_type": "code",
   "execution_count": 1,
   "metadata": {},
   "outputs": [],
   "source": [
    "# load required libraries\n",
    "from surprise import SVD, NMF\n",
    "from surprise import Dataset\n",
    "from surprise import Reader\n",
    "from surprise.model_selection import cross_validate\n",
    "from surprise.model_selection import train_test_split\n",
    "from surprise import accuracy\n",
    "\n",
    "import pandas as pd\n",
    "import numpy as np\n"
   ]
  },
  {
   "cell_type": "markdown",
   "metadata": {},
   "source": [
    "# Recommender based on Ratings\n"
   ]
  },
  {
   "cell_type": "code",
   "execution_count": 11,
   "metadata": {},
   "outputs": [],
   "source": [
    "# load the dataset from data/recommender/user_comments.csv\n",
    "comments = pd.read_csv('../data/recommender/user-comments.csv')"
   ]
  },
  {
   "cell_type": "code",
   "execution_count": 12,
   "metadata": {},
   "outputs": [
    {
     "data": {
      "text/html": [
       "<div>\n",
       "<style scoped>\n",
       "    .dataframe tbody tr th:only-of-type {\n",
       "        vertical-align: middle;\n",
       "    }\n",
       "\n",
       "    .dataframe tbody tr th {\n",
       "        vertical-align: top;\n",
       "    }\n",
       "\n",
       "    .dataframe thead th {\n",
       "        text-align: right;\n",
       "    }\n",
       "</style>\n",
       "<table border=\"1\" class=\"dataframe\">\n",
       "  <thead>\n",
       "    <tr style=\"text-align: right;\">\n",
       "      <th></th>\n",
       "      <th>qid</th>\n",
       "      <th>rating</th>\n",
       "      <th>sentiment</th>\n",
       "      <th>comment</th>\n",
       "    </tr>\n",
       "  </thead>\n",
       "  <tbody>\n",
       "    <tr>\n",
       "      <th>0</th>\n",
       "      <td>http://www.wikidata.org/entity/Q824389</td>\n",
       "      <td>1.0</td>\n",
       "      <td>0.0</td>\n",
       "      <td>I dont know who wrote the script for this movi...</td>\n",
       "    </tr>\n",
       "    <tr>\n",
       "      <th>1</th>\n",
       "      <td>http://www.wikidata.org/entity/Q603448</td>\n",
       "      <td>4.0</td>\n",
       "      <td>0.0</td>\n",
       "      <td>SPOILERS THROUGHOUTThis could have been a lot ...</td>\n",
       "    </tr>\n",
       "    <tr>\n",
       "      <th>2</th>\n",
       "      <td>http://www.wikidata.org/entity/Q4378426</td>\n",
       "      <td>7.0</td>\n",
       "      <td>1.0</td>\n",
       "      <td>As a long time fan of Peter ODonnells greatest...</td>\n",
       "    </tr>\n",
       "    <tr>\n",
       "      <th>3</th>\n",
       "      <td>http://www.wikidata.org/entity/Q1420651</td>\n",
       "      <td>1.0</td>\n",
       "      <td>0.0</td>\n",
       "      <td>After finally viewing this movie in its entire...</td>\n",
       "    </tr>\n",
       "    <tr>\n",
       "      <th>4</th>\n",
       "      <td>http://www.wikidata.org/entity/Q780951</td>\n",
       "      <td>10.0</td>\n",
       "      <td>1.0</td>\n",
       "      <td>..especially by Lambert. This is the essential...</td>\n",
       "    </tr>\n",
       "    <tr>\n",
       "      <th>...</th>\n",
       "      <td>...</td>\n",
       "      <td>...</td>\n",
       "      <td>...</td>\n",
       "      <td>...</td>\n",
       "    </tr>\n",
       "    <tr>\n",
       "      <th>26486</th>\n",
       "      <td>http://www.wikidata.org/entity/Q621565</td>\n",
       "      <td>7.0</td>\n",
       "      <td>1.0</td>\n",
       "      <td>This is a nice movie with good performances by...</td>\n",
       "    </tr>\n",
       "    <tr>\n",
       "      <th>26487</th>\n",
       "      <td>http://www.wikidata.org/entity/Q1334314</td>\n",
       "      <td>9.0</td>\n",
       "      <td>1.0</td>\n",
       "      <td>when my sister said this movie was gonna be go...</td>\n",
       "    </tr>\n",
       "    <tr>\n",
       "      <th>26488</th>\n",
       "      <td>http://www.wikidata.org/entity/Q813097</td>\n",
       "      <td>9.0</td>\n",
       "      <td>1.0</td>\n",
       "      <td>I guess when Beat Street made a national appea...</td>\n",
       "    </tr>\n",
       "    <tr>\n",
       "      <th>26489</th>\n",
       "      <td>http://www.wikidata.org/entity/Q1538224</td>\n",
       "      <td>4.0</td>\n",
       "      <td>0.0</td>\n",
       "      <td>I will never forget the wit and great comedy o...</td>\n",
       "    </tr>\n",
       "    <tr>\n",
       "      <th>26490</th>\n",
       "      <td>http://www.wikidata.org/entity/Q23628</td>\n",
       "      <td>10.0</td>\n",
       "      <td>1.0</td>\n",
       "      <td>It probably isnt fair that I have got to see t...</td>\n",
       "    </tr>\n",
       "  </tbody>\n",
       "</table>\n",
       "<p>26491 rows × 4 columns</p>\n",
       "</div>"
      ],
      "text/plain": [
       "                                           qid  rating  sentiment  \\\n",
       "0       http://www.wikidata.org/entity/Q824389     1.0        0.0   \n",
       "1       http://www.wikidata.org/entity/Q603448     4.0        0.0   \n",
       "2      http://www.wikidata.org/entity/Q4378426     7.0        1.0   \n",
       "3      http://www.wikidata.org/entity/Q1420651     1.0        0.0   \n",
       "4       http://www.wikidata.org/entity/Q780951    10.0        1.0   \n",
       "...                                        ...     ...        ...   \n",
       "26486   http://www.wikidata.org/entity/Q621565     7.0        1.0   \n",
       "26487  http://www.wikidata.org/entity/Q1334314     9.0        1.0   \n",
       "26488   http://www.wikidata.org/entity/Q813097     9.0        1.0   \n",
       "26489  http://www.wikidata.org/entity/Q1538224     4.0        0.0   \n",
       "26490    http://www.wikidata.org/entity/Q23628    10.0        1.0   \n",
       "\n",
       "                                                 comment  \n",
       "0      I dont know who wrote the script for this movi...  \n",
       "1      SPOILERS THROUGHOUTThis could have been a lot ...  \n",
       "2      As a long time fan of Peter ODonnells greatest...  \n",
       "3      After finally viewing this movie in its entire...  \n",
       "4      ..especially by Lambert. This is the essential...  \n",
       "...                                                  ...  \n",
       "26486  This is a nice movie with good performances by...  \n",
       "26487  when my sister said this movie was gonna be go...  \n",
       "26488  I guess when Beat Street made a national appea...  \n",
       "26489  I will never forget the wit and great comedy o...  \n",
       "26490  It probably isnt fair that I have got to see t...  \n",
       "\n",
       "[26491 rows x 4 columns]"
      ]
     },
     "execution_count": 12,
     "metadata": {},
     "output_type": "execute_result"
    }
   ],
   "source": [
    "comments"
   ]
  },
  {
   "cell_type": "code",
   "execution_count": 13,
   "metadata": {},
   "outputs": [],
   "source": [
    "# append index column to data as user_id\n",
    "comments['user_id'] = comments.index"
   ]
  },
  {
   "cell_type": "code",
   "execution_count": 14,
   "metadata": {},
   "outputs": [
    {
     "data": {
      "text/html": [
       "<div>\n",
       "<style scoped>\n",
       "    .dataframe tbody tr th:only-of-type {\n",
       "        vertical-align: middle;\n",
       "    }\n",
       "\n",
       "    .dataframe tbody tr th {\n",
       "        vertical-align: top;\n",
       "    }\n",
       "\n",
       "    .dataframe thead th {\n",
       "        text-align: right;\n",
       "    }\n",
       "</style>\n",
       "<table border=\"1\" class=\"dataframe\">\n",
       "  <thead>\n",
       "    <tr style=\"text-align: right;\">\n",
       "      <th></th>\n",
       "      <th>qid</th>\n",
       "      <th>rating</th>\n",
       "      <th>sentiment</th>\n",
       "      <th>comment</th>\n",
       "      <th>user_id</th>\n",
       "    </tr>\n",
       "  </thead>\n",
       "  <tbody>\n",
       "    <tr>\n",
       "      <th>0</th>\n",
       "      <td>http://www.wikidata.org/entity/Q824389</td>\n",
       "      <td>1.0</td>\n",
       "      <td>0.0</td>\n",
       "      <td>I dont know who wrote the script for this movi...</td>\n",
       "      <td>0</td>\n",
       "    </tr>\n",
       "    <tr>\n",
       "      <th>1</th>\n",
       "      <td>http://www.wikidata.org/entity/Q603448</td>\n",
       "      <td>4.0</td>\n",
       "      <td>0.0</td>\n",
       "      <td>SPOILERS THROUGHOUTThis could have been a lot ...</td>\n",
       "      <td>1</td>\n",
       "    </tr>\n",
       "    <tr>\n",
       "      <th>2</th>\n",
       "      <td>http://www.wikidata.org/entity/Q4378426</td>\n",
       "      <td>7.0</td>\n",
       "      <td>1.0</td>\n",
       "      <td>As a long time fan of Peter ODonnells greatest...</td>\n",
       "      <td>2</td>\n",
       "    </tr>\n",
       "    <tr>\n",
       "      <th>3</th>\n",
       "      <td>http://www.wikidata.org/entity/Q1420651</td>\n",
       "      <td>1.0</td>\n",
       "      <td>0.0</td>\n",
       "      <td>After finally viewing this movie in its entire...</td>\n",
       "      <td>3</td>\n",
       "    </tr>\n",
       "    <tr>\n",
       "      <th>4</th>\n",
       "      <td>http://www.wikidata.org/entity/Q780951</td>\n",
       "      <td>10.0</td>\n",
       "      <td>1.0</td>\n",
       "      <td>..especially by Lambert. This is the essential...</td>\n",
       "      <td>4</td>\n",
       "    </tr>\n",
       "    <tr>\n",
       "      <th>...</th>\n",
       "      <td>...</td>\n",
       "      <td>...</td>\n",
       "      <td>...</td>\n",
       "      <td>...</td>\n",
       "      <td>...</td>\n",
       "    </tr>\n",
       "    <tr>\n",
       "      <th>26486</th>\n",
       "      <td>http://www.wikidata.org/entity/Q621565</td>\n",
       "      <td>7.0</td>\n",
       "      <td>1.0</td>\n",
       "      <td>This is a nice movie with good performances by...</td>\n",
       "      <td>26486</td>\n",
       "    </tr>\n",
       "    <tr>\n",
       "      <th>26487</th>\n",
       "      <td>http://www.wikidata.org/entity/Q1334314</td>\n",
       "      <td>9.0</td>\n",
       "      <td>1.0</td>\n",
       "      <td>when my sister said this movie was gonna be go...</td>\n",
       "      <td>26487</td>\n",
       "    </tr>\n",
       "    <tr>\n",
       "      <th>26488</th>\n",
       "      <td>http://www.wikidata.org/entity/Q813097</td>\n",
       "      <td>9.0</td>\n",
       "      <td>1.0</td>\n",
       "      <td>I guess when Beat Street made a national appea...</td>\n",
       "      <td>26488</td>\n",
       "    </tr>\n",
       "    <tr>\n",
       "      <th>26489</th>\n",
       "      <td>http://www.wikidata.org/entity/Q1538224</td>\n",
       "      <td>4.0</td>\n",
       "      <td>0.0</td>\n",
       "      <td>I will never forget the wit and great comedy o...</td>\n",
       "      <td>26489</td>\n",
       "    </tr>\n",
       "    <tr>\n",
       "      <th>26490</th>\n",
       "      <td>http://www.wikidata.org/entity/Q23628</td>\n",
       "      <td>10.0</td>\n",
       "      <td>1.0</td>\n",
       "      <td>It probably isnt fair that I have got to see t...</td>\n",
       "      <td>26490</td>\n",
       "    </tr>\n",
       "  </tbody>\n",
       "</table>\n",
       "<p>26491 rows × 5 columns</p>\n",
       "</div>"
      ],
      "text/plain": [
       "                                           qid  rating  sentiment  \\\n",
       "0       http://www.wikidata.org/entity/Q824389     1.0        0.0   \n",
       "1       http://www.wikidata.org/entity/Q603448     4.0        0.0   \n",
       "2      http://www.wikidata.org/entity/Q4378426     7.0        1.0   \n",
       "3      http://www.wikidata.org/entity/Q1420651     1.0        0.0   \n",
       "4       http://www.wikidata.org/entity/Q780951    10.0        1.0   \n",
       "...                                        ...     ...        ...   \n",
       "26486   http://www.wikidata.org/entity/Q621565     7.0        1.0   \n",
       "26487  http://www.wikidata.org/entity/Q1334314     9.0        1.0   \n",
       "26488   http://www.wikidata.org/entity/Q813097     9.0        1.0   \n",
       "26489  http://www.wikidata.org/entity/Q1538224     4.0        0.0   \n",
       "26490    http://www.wikidata.org/entity/Q23628    10.0        1.0   \n",
       "\n",
       "                                                 comment  user_id  \n",
       "0      I dont know who wrote the script for this movi...        0  \n",
       "1      SPOILERS THROUGHOUTThis could have been a lot ...        1  \n",
       "2      As a long time fan of Peter ODonnells greatest...        2  \n",
       "3      After finally viewing this movie in its entire...        3  \n",
       "4      ..especially by Lambert. This is the essential...        4  \n",
       "...                                                  ...      ...  \n",
       "26486  This is a nice movie with good performances by...    26486  \n",
       "26487  when my sister said this movie was gonna be go...    26487  \n",
       "26488  I guess when Beat Street made a national appea...    26488  \n",
       "26489  I will never forget the wit and great comedy o...    26489  \n",
       "26490  It probably isnt fair that I have got to see t...    26490  \n",
       "\n",
       "[26491 rows x 5 columns]"
      ]
     },
     "execution_count": 14,
     "metadata": {},
     "output_type": "execute_result"
    }
   ],
   "source": [
    "comments\n"
   ]
  },
  {
   "cell_type": "markdown",
   "metadata": {},
   "source": [
    "## Surprise"
   ]
  },
  {
   "cell_type": "code",
   "execution_count": 7,
   "metadata": {},
   "outputs": [],
   "source": [
    "# prepare data for surprise\n",
    "reader = Reader(rating_scale=(0,1))\n",
    "movie_surprise = Dataset.load_from_df(data[['user_id', 'qid', 'sentiment']], reader)\n"
   ]
  },
  {
   "cell_type": "code",
   "execution_count": 150,
   "metadata": {},
   "outputs": [
    {
     "name": "stdout",
     "output_type": "stream",
     "text": [
      "Evaluating RMSE, MAE of algorithm SVD on 5 split(s).\n",
      "\n",
      "                  Fold 1  Fold 2  Fold 3  Fold 4  Fold 5  Mean    Std     \n",
      "RMSE (testset)    0.3529  0.3528  0.3542  0.3515  0.3507  0.3524  0.0012  \n",
      "MAE (testset)     0.3023  0.3025  0.3039  0.3015  0.3020  0.3024  0.0008  \n",
      "Fit time          0.19    0.17    0.22    0.19    0.33    0.22    0.06    \n",
      "Test time         0.02    0.02    0.02    0.02    0.03    0.02    0.00    \n"
     ]
    },
    {
     "data": {
      "text/plain": [
       "{'test_rmse': array([0.35290013, 0.35277226, 0.35416095, 0.35145073, 0.35074155]),\n",
       " 'test_mae': array([0.30230697, 0.30246422, 0.3039157 , 0.30151303, 0.3019711 ]),\n",
       " 'fit_time': (0.19182491302490234,\n",
       "  0.17084431648254395,\n",
       "  0.21894526481628418,\n",
       "  0.1931912899017334,\n",
       "  0.3287191390991211),\n",
       " 'test_time': (0.015185117721557617,\n",
       "  0.015334606170654297,\n",
       "  0.0169217586517334,\n",
       "  0.02030801773071289,\n",
       "  0.027342557907104492)}"
      ]
     },
     "execution_count": 150,
     "metadata": {},
     "output_type": "execute_result"
    }
   ],
   "source": [
    "# train using cross validation on SVD\n",
    "algo = SVD()\n",
    "cross_validate(algo, movie_surprise, measures=['RMSE', 'MAE'], cv=5, verbose=True)\n"
   ]
  },
  {
   "cell_type": "code",
   "execution_count": 8,
   "metadata": {},
   "outputs": [
    {
     "name": "stdout",
     "output_type": "stream",
     "text": [
      "RMSE: 0.3553\n"
     ]
    },
    {
     "data": {
      "text/plain": [
       "0.35531364904452173"
      ]
     },
     "execution_count": 8,
     "metadata": {},
     "output_type": "execute_result"
    }
   ],
   "source": [
    "# predict using SVD\n",
    "algo = SVD()\n",
    "trainset, testset = train_test_split(movie_surprise, test_size=.2, random_state=42)\n",
    "algo.fit(trainset)\n",
    "predictions_svd = algo.test(testset)\n",
    "accuracy.rmse(predictions_svd)\n"
   ]
  },
  {
   "cell_type": "code",
   "execution_count": 23,
   "metadata": {},
   "outputs": [
    {
     "data": {
      "text/plain": [
       "[Prediction(uid=9259, iid='http://www.wikidata.org/entity/Q313659', r_ui=1.0, est=0.8786273036836345, details={'was_impossible': False}),\n",
       " Prediction(uid=22146, iid='http://www.wikidata.org/entity/Q2698384', r_ui=1.0, est=0.8437773370731496, details={'was_impossible': False}),\n",
       " Prediction(uid=1717, iid='http://www.wikidata.org/entity/Q4378426', r_ui=0.0, est=0.7226972282302915, details={'was_impossible': False}),\n",
       " Prediction(uid=2696, iid='http://www.wikidata.org/entity/Q3989319', r_ui=0.0, est=0.4223618172309451, details={'was_impossible': False}),\n",
       " Prediction(uid=1848, iid='http://www.wikidata.org/entity/Q1214303', r_ui=1.0, est=0.8723642368596253, details={'was_impossible': False}),\n",
       " Prediction(uid=20896, iid='http://www.wikidata.org/entity/Q1198096', r_ui=1.0, est=0.8105581729384415, details={'was_impossible': False}),\n",
       " Prediction(uid=10623, iid='http://www.wikidata.org/entity/Q2699724', r_ui=1.0, est=0.9195302607146698, details={'was_impossible': False}),\n",
       " Prediction(uid=21476, iid='http://www.wikidata.org/entity/Q188000', r_ui=0.0, est=0.19076494780986197, details={'was_impossible': False}),\n",
       " Prediction(uid=12852, iid='http://www.wikidata.org/entity/Q4121019', r_ui=0.0, est=0.5590939654834591, details={'was_impossible': False}),\n",
       " Prediction(uid=6622, iid='http://www.wikidata.org/entity/Q1366560', r_ui=1.0, est=0.750930414146896, details={'was_impossible': False})]"
      ]
     },
     "execution_count": 23,
     "metadata": {},
     "output_type": "execute_result"
    }
   ],
   "source": [
    "predictions_svd[:10]"
   ]
  },
  {
   "cell_type": "code",
   "execution_count": 21,
   "metadata": {},
   "outputs": [
    {
     "name": "stdout",
     "output_type": "stream",
     "text": [
      "user: 6622       item: http://www.wikidata.org/entity/Q1366560 r_ui = 1.00   est = 0.75   {'was_impossible': False}\n"
     ]
    }
   ],
   "source": [
    "for pred in predictions_svd:\n",
    "    if pred.uid == 6622:\n",
    "        print(pred)"
   ]
  },
  {
   "cell_type": "code",
   "execution_count": 153,
   "metadata": {},
   "outputs": [
    {
     "ename": "AttributeError",
     "evalue": "can't set attribute",
     "output_type": "error",
     "traceback": [
      "\u001b[0;31m---------------------------------------------------------------------------\u001b[0m",
      "\u001b[0;31mAttributeError\u001b[0m                            Traceback (most recent call last)",
      "\u001b[1;32m/home/thetruehooha/Desktop/UZH - HS22/UZH/1. ATAI/Project/Jupyter Notebooks/Recommender.ipynb Cell 10\u001b[0m in \u001b[0;36m<cell line: 1>\u001b[0;34m()\u001b[0m\n\u001b[1;32m      <a href='vscode-notebook-cell:/home/thetruehooha/Desktop/UZH%20-%20HS22/UZH/1.%20ATAI/Project/Jupyter%20Notebooks/Recommender.ipynb#Y252sZmlsZQ%3D%3D?line=2'>3</a>\u001b[0m         pred\u001b[39m.\u001b[39mest \u001b[39m=\u001b[39m \u001b[39m0\u001b[39m\n\u001b[1;32m      <a href='vscode-notebook-cell:/home/thetruehooha/Desktop/UZH%20-%20HS22/UZH/1.%20ATAI/Project/Jupyter%20Notebooks/Recommender.ipynb#Y252sZmlsZQ%3D%3D?line=3'>4</a>\u001b[0m     \u001b[39melse\u001b[39;00m:\n\u001b[0;32m----> <a href='vscode-notebook-cell:/home/thetruehooha/Desktop/UZH%20-%20HS22/UZH/1.%20ATAI/Project/Jupyter%20Notebooks/Recommender.ipynb#Y252sZmlsZQ%3D%3D?line=4'>5</a>\u001b[0m         pred\u001b[39m.\u001b[39mest \u001b[39m=\u001b[39m \u001b[39m1\u001b[39m\n\u001b[1;32m      <a href='vscode-notebook-cell:/home/thetruehooha/Desktop/UZH%20-%20HS22/UZH/1.%20ATAI/Project/Jupyter%20Notebooks/Recommender.ipynb#Y252sZmlsZQ%3D%3D?line=5'>6</a>\u001b[0m predictions_svd[:\u001b[39m20\u001b[39m]\n",
      "\u001b[0;31mAttributeError\u001b[0m: can't set attribute"
     ]
    }
   ],
   "source": [
    "preds = {}\n",
    "for pred in predictions_svd:\n",
    "    if pred.est < 0.5:\n",
    "        pred.est = 0\n",
    "    else:\n",
    "        pred.est = 1\n",
    "predictions_svd[:20]"
   ]
  },
  {
   "cell_type": "code",
   "execution_count": 13,
   "metadata": {},
   "outputs": [],
   "source": [
    "from collections import defaultdict\n",
    "\n",
    "\n",
    "def get_top_n(predictions, n=10):\n",
    "    \"\"\"\n",
    "    Return the top-N recommendation for each user from a set of predictions.\n",
    "    Args:\n",
    "    predictions(list of Prediction objects): The list of predictions, as\n",
    "    returned by the test method of an algorithm.\n",
    "    n(int): The number of recommendation to output for each user. Default\n",
    "    is 10.\n",
    "    Returns:\n",
    "    A dict where keys are user (raw) ids and values are lists of tuples:\n",
    "    [(raw item id, rating estimation), ...] of size n.\n",
    "    \"\"\"\n",
    "    # First map the predictions to each user.\n",
    "    top_n = defaultdict(list)\n",
    "    for uid, iid, true_r, est, _ in predictions:\n",
    "        top_n[uid].append((iid, est))\n",
    "\n",
    "    # Then sort the predictions for each user and retrieve the k highest ones.\n",
    "    for uid, user_ratings in top_n.items():\n",
    "        user_ratings.sort(key=lambda x: x[1], reverse=True)\n",
    "        top_n[uid] = user_ratings[:n]\n",
    "    \n",
    "    return top_n\n"
   ]
  },
  {
   "cell_type": "code",
   "execution_count": 26,
   "metadata": {},
   "outputs": [
    {
     "data": {
      "text/plain": [
       "[('http://www.wikidata.org/entity/Q1366560', 0.750930414146896)]"
      ]
     },
     "execution_count": 26,
     "metadata": {},
     "output_type": "execute_result"
    }
   ],
   "source": [
    "# SVD Recommendations\n",
    "top_n = get_top_n(predictions_svd, n=10)\n",
    "top_n[6622]"
   ]
  },
  {
   "cell_type": "code",
   "execution_count": 36,
   "metadata": {},
   "outputs": [],
   "source": [
    "preds = []\n",
    "for item in data['qid'].unique():\n",
    "    pred = algo.predict(6622, item)\n",
    "    if pred.est > 0.5:\n",
    "        preds.append(pred)"
   ]
  },
  {
   "cell_type": "code",
   "execution_count": 38,
   "metadata": {},
   "outputs": [
    {
     "name": "stdout",
     "output_type": "stream",
     "text": [
      "Evaluating RMSE, MAE of algorithm NMF on 5 split(s).\n",
      "\n",
      "                  Fold 1  Fold 2  Fold 3  Fold 4  Fold 5  Mean    Std     \n",
      "RMSE (testset)    3.4531  3.4603  3.4470  3.4456  3.4451  3.4502  0.0058  \n",
      "MAE (testset)     3.2491  3.2550  3.2385  3.2361  3.2350  3.2427  0.0079  \n",
      "Fit time          1.15    1.12    1.18    1.19    1.17    1.16    0.02    \n",
      "Test time         0.02    0.02    0.02    0.02    0.02    0.02    0.00    \n"
     ]
    },
    {
     "data": {
      "text/plain": [
       "{'test_rmse': array([3.45308395, 3.46034599, 3.44697498, 3.4456411 , 3.44514903]),\n",
       " 'test_mae': array([3.24908661, 3.25498906, 3.2385198 , 3.23610842, 3.23496969]),\n",
       " 'fit_time': (1.1528708934783936,\n",
       "  1.117828130722046,\n",
       "  1.176422357559204,\n",
       "  1.1874279975891113,\n",
       "  1.1736862659454346),\n",
       " 'test_time': (0.020592689514160156,\n",
       "  0.019394397735595703,\n",
       "  0.019087791442871094,\n",
       "  0.01924443244934082,\n",
       "  0.020799636840820312)}"
      ]
     },
     "execution_count": 38,
     "metadata": {},
     "output_type": "execute_result"
    }
   ],
   "source": [
    "# train using cross validation on NMF\n",
    "algo = NMF()\n",
    "cross_validate(algo, data, measures=['RMSE', 'MAE'], cv=5, verbose=True)\n"
   ]
  },
  {
   "cell_type": "markdown",
   "metadata": {},
   "source": [
    "# Recommender based on Plots\n"
   ]
  },
  {
   "cell_type": "code",
   "execution_count": 2,
   "metadata": {},
   "outputs": [
    {
     "data": {
      "text/html": [
       "<div>\n",
       "<style scoped>\n",
       "    .dataframe tbody tr th:only-of-type {\n",
       "        vertical-align: middle;\n",
       "    }\n",
       "\n",
       "    .dataframe tbody tr th {\n",
       "        vertical-align: top;\n",
       "    }\n",
       "\n",
       "    .dataframe thead th {\n",
       "        text-align: right;\n",
       "    }\n",
       "</style>\n",
       "<table border=\"1\" class=\"dataframe\">\n",
       "  <thead>\n",
       "    <tr style=\"text-align: right;\">\n",
       "      <th></th>\n",
       "      <th>qid</th>\n",
       "      <th>plot</th>\n",
       "    </tr>\n",
       "  </thead>\n",
       "  <tbody>\n",
       "    <tr>\n",
       "      <th>0</th>\n",
       "      <td>http://www.wikidata.org/entity/Q532372</td>\n",
       "      <td>The film opens at a school where a boy is pick...</td>\n",
       "    </tr>\n",
       "    <tr>\n",
       "      <th>1</th>\n",
       "      <td>http://www.wikidata.org/entity/Q2362333</td>\n",
       "      <td>Billy Tully (Keach), a boxer past his prime, g...</td>\n",
       "    </tr>\n",
       "    <tr>\n",
       "      <th>2</th>\n",
       "      <td>http://www.wikidata.org/entity/Q1757747</td>\n",
       "      <td>In the far reaches of outer space, two spacesh...</td>\n",
       "    </tr>\n",
       "    <tr>\n",
       "      <th>3</th>\n",
       "      <td>http://www.wikidata.org/entity/Q2479210</td>\n",
       "      <td>Teenage lovers Jordan White and Amy Blue pick ...</td>\n",
       "    </tr>\n",
       "    <tr>\n",
       "      <th>4</th>\n",
       "      <td>http://www.wikidata.org/entity/Q1114179</td>\n",
       "      <td>Set in the South Pacific Ocean in the year 189...</td>\n",
       "    </tr>\n",
       "    <tr>\n",
       "      <th>...</th>\n",
       "      <td>...</td>\n",
       "      <td>...</td>\n",
       "    </tr>\n",
       "    <tr>\n",
       "      <th>10362</th>\n",
       "      <td>http://www.wikidata.org/entity/Q4313927</td>\n",
       "      <td>Deven Yuvvraaj (Salman Khan) is a struggling s...</td>\n",
       "    </tr>\n",
       "    <tr>\n",
       "      <th>10363</th>\n",
       "      <td>http://www.wikidata.org/entity/Q51668</td>\n",
       "      <td>The film opens in Gethsemane at night as Jesus...</td>\n",
       "    </tr>\n",
       "    <tr>\n",
       "      <th>10364</th>\n",
       "      <td>http://www.wikidata.org/entity/Q1111758</td>\n",
       "      <td>Two white cops, Bob 'Uncle Bob' Hodges (Robert...</td>\n",
       "    </tr>\n",
       "    <tr>\n",
       "      <th>10365</th>\n",
       "      <td>http://www.wikidata.org/entity/Q40071</td>\n",
       "      <td>The film follows various plot arcs all occurri...</td>\n",
       "    </tr>\n",
       "    <tr>\n",
       "      <th>10366</th>\n",
       "      <td>http://www.wikidata.org/entity/Q15270932</td>\n",
       "      <td>The story follows the characters of Molly (Ble...</td>\n",
       "    </tr>\n",
       "  </tbody>\n",
       "</table>\n",
       "<p>10367 rows × 2 columns</p>\n",
       "</div>"
      ],
      "text/plain": [
       "                                            qid  \\\n",
       "0        http://www.wikidata.org/entity/Q532372   \n",
       "1       http://www.wikidata.org/entity/Q2362333   \n",
       "2       http://www.wikidata.org/entity/Q1757747   \n",
       "3       http://www.wikidata.org/entity/Q2479210   \n",
       "4       http://www.wikidata.org/entity/Q1114179   \n",
       "...                                         ...   \n",
       "10362   http://www.wikidata.org/entity/Q4313927   \n",
       "10363     http://www.wikidata.org/entity/Q51668   \n",
       "10364   http://www.wikidata.org/entity/Q1111758   \n",
       "10365     http://www.wikidata.org/entity/Q40071   \n",
       "10366  http://www.wikidata.org/entity/Q15270932   \n",
       "\n",
       "                                                    plot  \n",
       "0      The film opens at a school where a boy is pick...  \n",
       "1      Billy Tully (Keach), a boxer past his prime, g...  \n",
       "2      In the far reaches of outer space, two spacesh...  \n",
       "3      Teenage lovers Jordan White and Amy Blue pick ...  \n",
       "4      Set in the South Pacific Ocean in the year 189...  \n",
       "...                                                  ...  \n",
       "10362  Deven Yuvvraaj (Salman Khan) is a struggling s...  \n",
       "10363  The film opens in Gethsemane at night as Jesus...  \n",
       "10364  Two white cops, Bob 'Uncle Bob' Hodges (Robert...  \n",
       "10365  The film follows various plot arcs all occurri...  \n",
       "10366  The story follows the characters of Molly (Ble...  \n",
       "\n",
       "[10367 rows x 2 columns]"
      ]
     },
     "execution_count": 2,
     "metadata": {},
     "output_type": "execute_result"
    }
   ],
   "source": [
    "# load the dataset from data/recommender/plots.csv\n",
    "data = pd.read_csv('../data/recommender/plots.csv')\n",
    "data\n"
   ]
  },
  {
   "cell_type": "code",
   "execution_count": 27,
   "metadata": {},
   "outputs": [],
   "source": [
    "# get imdb id for each movie from graph and append to dataframe\n",
    "for qid in data['qid']:\n",
    "    imdb = movie2imdb[URIRef(qid)]\n",
    "    data.loc[data['qid'] == qid, 'imdb id'] = imdb"
   ]
  },
  {
   "cell_type": "code",
   "execution_count": 31,
   "metadata": {},
   "outputs": [
    {
     "data": {
      "text/html": [
       "<div>\n",
       "<style scoped>\n",
       "    .dataframe tbody tr th:only-of-type {\n",
       "        vertical-align: middle;\n",
       "    }\n",
       "\n",
       "    .dataframe tbody tr th {\n",
       "        vertical-align: top;\n",
       "    }\n",
       "\n",
       "    .dataframe thead th {\n",
       "        text-align: right;\n",
       "    }\n",
       "</style>\n",
       "<table border=\"1\" class=\"dataframe\">\n",
       "  <thead>\n",
       "    <tr style=\"text-align: right;\">\n",
       "      <th></th>\n",
       "      <th>qid</th>\n",
       "      <th>plot</th>\n",
       "      <th>imdb id</th>\n",
       "    </tr>\n",
       "  </thead>\n",
       "  <tbody>\n",
       "    <tr>\n",
       "      <th>0</th>\n",
       "      <td>http://www.wikidata.org/entity/Q532372</td>\n",
       "      <td>The film opens at a school where a boy is pick...</td>\n",
       "      <td>tt0212346</td>\n",
       "    </tr>\n",
       "    <tr>\n",
       "      <th>1</th>\n",
       "      <td>http://www.wikidata.org/entity/Q2362333</td>\n",
       "      <td>Billy Tully (Keach), a boxer past his prime, g...</td>\n",
       "      <td>tt0068575</td>\n",
       "    </tr>\n",
       "    <tr>\n",
       "      <th>2</th>\n",
       "      <td>http://www.wikidata.org/entity/Q1757747</td>\n",
       "      <td>In the far reaches of outer space, two spacesh...</td>\n",
       "      <td>tt0059792</td>\n",
       "    </tr>\n",
       "    <tr>\n",
       "      <th>3</th>\n",
       "      <td>http://www.wikidata.org/entity/Q2479210</td>\n",
       "      <td>Teenage lovers Jordan White and Amy Blue pick ...</td>\n",
       "      <td>tt0112887</td>\n",
       "    </tr>\n",
       "    <tr>\n",
       "      <th>4</th>\n",
       "      <td>http://www.wikidata.org/entity/Q1114179</td>\n",
       "      <td>Set in the South Pacific Ocean in the year 189...</td>\n",
       "      <td>tt0102782</td>\n",
       "    </tr>\n",
       "    <tr>\n",
       "      <th>...</th>\n",
       "      <td>...</td>\n",
       "      <td>...</td>\n",
       "      <td>...</td>\n",
       "    </tr>\n",
       "    <tr>\n",
       "      <th>10362</th>\n",
       "      <td>http://www.wikidata.org/entity/Q4313927</td>\n",
       "      <td>Deven Yuvvraaj (Salman Khan) is a struggling s...</td>\n",
       "      <td>tt1105747</td>\n",
       "    </tr>\n",
       "    <tr>\n",
       "      <th>10363</th>\n",
       "      <td>http://www.wikidata.org/entity/Q51668</td>\n",
       "      <td>The film opens in Gethsemane at night as Jesus...</td>\n",
       "      <td>tt0335345</td>\n",
       "    </tr>\n",
       "    <tr>\n",
       "      <th>10364</th>\n",
       "      <td>http://www.wikidata.org/entity/Q1111758</td>\n",
       "      <td>Two white cops, Bob 'Uncle Bob' Hodges (Robert...</td>\n",
       "      <td>tt0094894</td>\n",
       "    </tr>\n",
       "    <tr>\n",
       "      <th>10365</th>\n",
       "      <td>http://www.wikidata.org/entity/Q40071</td>\n",
       "      <td>The film follows various plot arcs all occurri...</td>\n",
       "      <td>tt0137338</td>\n",
       "    </tr>\n",
       "    <tr>\n",
       "      <th>10366</th>\n",
       "      <td>http://www.wikidata.org/entity/Q15270932</td>\n",
       "      <td>The story follows the characters of Molly (Ble...</td>\n",
       "      <td>tt2770480</td>\n",
       "    </tr>\n",
       "  </tbody>\n",
       "</table>\n",
       "<p>10367 rows × 3 columns</p>\n",
       "</div>"
      ],
      "text/plain": [
       "                                            qid  \\\n",
       "0        http://www.wikidata.org/entity/Q532372   \n",
       "1       http://www.wikidata.org/entity/Q2362333   \n",
       "2       http://www.wikidata.org/entity/Q1757747   \n",
       "3       http://www.wikidata.org/entity/Q2479210   \n",
       "4       http://www.wikidata.org/entity/Q1114179   \n",
       "...                                         ...   \n",
       "10362   http://www.wikidata.org/entity/Q4313927   \n",
       "10363     http://www.wikidata.org/entity/Q51668   \n",
       "10364   http://www.wikidata.org/entity/Q1111758   \n",
       "10365     http://www.wikidata.org/entity/Q40071   \n",
       "10366  http://www.wikidata.org/entity/Q15270932   \n",
       "\n",
       "                                                    plot    imdb id  \n",
       "0      The film opens at a school where a boy is pick...  tt0212346  \n",
       "1      Billy Tully (Keach), a boxer past his prime, g...  tt0068575  \n",
       "2      In the far reaches of outer space, two spacesh...  tt0059792  \n",
       "3      Teenage lovers Jordan White and Amy Blue pick ...  tt0112887  \n",
       "4      Set in the South Pacific Ocean in the year 189...  tt0102782  \n",
       "...                                                  ...        ...  \n",
       "10362  Deven Yuvvraaj (Salman Khan) is a struggling s...  tt1105747  \n",
       "10363  The film opens in Gethsemane at night as Jesus...  tt0335345  \n",
       "10364  Two white cops, Bob 'Uncle Bob' Hodges (Robert...  tt0094894  \n",
       "10365  The film follows various plot arcs all occurri...  tt0137338  \n",
       "10366  The story follows the characters of Molly (Ble...  tt2770480  \n",
       "\n",
       "[10367 rows x 3 columns]"
      ]
     },
     "execution_count": 31,
     "metadata": {},
     "output_type": "execute_result"
    }
   ],
   "source": [
    "data"
   ]
  },
  {
   "cell_type": "code",
   "execution_count": 147,
   "metadata": {},
   "outputs": [],
   "source": [
    "# scrape IMDb ratigns for each movie and append to pandas dataframe\n",
    "import requests\n",
    "from bs4 import BeautifulSoup, SoupStrainer\n",
    "import re\n",
    "\n",
    "def get_imdb_rating(movie):\n",
    "    url = 'https://www.imdb.com/search/title/?title=' + movie.replace(' ', '+')\n",
    "    response = requests.get(url)\n",
    "    soup = BeautifulSoup(response.text, 'html.parser')\n",
    "    print(soup)\n",
    "    try:\n",
    "        rating = soup.find('div', class_='inline-block ratings-imdb-rating').text\n",
    "        return float(rating)\n",
    "    except:\n",
    "        print(movie)\n",
    "        return None"
   ]
  },
  {
   "cell_type": "code",
   "execution_count": 13,
   "metadata": {},
   "outputs": [],
   "source": [
    "# load the graph from pickle\n",
    "import pickle\n",
    "with open('fixed_graph_crowd.pickle', 'rb') as f:\n",
    "    graph = pickle.load(f)"
   ]
  },
  {
   "cell_type": "code",
   "execution_count": 15,
   "metadata": {},
   "outputs": [],
   "source": [
    "# load the embeddings\n",
    "import os\n",
    "os.chdir('../data')\n",
    "os.chdir('./ddis-graph-embeddings')\n",
    "entity_emb = np.load('./entity_embeds.npy')\n",
    "relation_emb = np.load('./relation_embeds.npy')\n",
    "entity_file = './entity_ids.del'\n",
    "relation_file = './relation_ids.del'"
   ]
  },
  {
   "cell_type": "code",
   "execution_count": 16,
   "metadata": {},
   "outputs": [],
   "source": [
    "# define some prefixes\n",
    "import rdflib\n",
    "from rdflib import Graph, URIRef, Literal\n",
    "\n",
    "WD = rdflib.Namespace('http://www.wikidata.org/entity/')\n",
    "WDT = rdflib.Namespace('http://www.wikidata.org/prop/direct/')\n",
    "DDIS = rdflib.Namespace('http://ddis.ch/atai/')\n",
    "RDFS = rdflib.namespace.RDFS\n",
    "SCHEMA = rdflib.Namespace('http://schema.org/')"
   ]
  },
  {
   "cell_type": "code",
   "execution_count": 17,
   "metadata": {},
   "outputs": [],
   "source": [
    "ent2lbl = {ent: str(lbl) for ent, lbl in graph.subject_objects(RDFS.label)}\n",
    "lbl2ent = {lbl: ent for ent, lbl in ent2lbl.items()}\n",
    "rel2lbl = {rel: str(lbl) for rel, lbl in graph.subject_objects(RDFS.label)}\n",
    "lbl2rel = {lbl: rel for rel, lbl in rel2lbl.items()}"
   ]
  },
  {
   "cell_type": "code",
   "execution_count": 22,
   "metadata": {},
   "outputs": [],
   "source": [
    "# dictionary for movie entity to imdb id\n",
    "movie2imdb = {ent: o for ent, o in graph.subject_objects(WDT.P345)}"
   ]
  },
  {
   "cell_type": "code",
   "execution_count": 26,
   "metadata": {},
   "outputs": [
    {
     "data": {
      "text/plain": [
       "rdflib.term.Literal('tt0212346', datatype=rdflib.term.URIRef('http://www.w3.org/2001/XMLSchema#string'))"
      ]
     },
     "execution_count": 26,
     "metadata": {},
     "output_type": "execute_result"
    }
   ],
   "source": [
    "movie2imdb[URIRef('http://www.wikidata.org/entity/Q532372')]"
   ]
  },
  {
   "cell_type": "code",
   "execution_count": 119,
   "metadata": {},
   "outputs": [
    {
     "name": "stdout",
     "output_type": "stream",
     "text": [
      "Miss Congeniality 6.3\n",
      "Fat City 7.3\n",
      "Planet of the Vampires 6.2\n",
      "The Doom Generation 6.0\n",
      "Return to the Blue Lagoon 5.1\n",
      "The Descendants 7.3\n",
      "Don't Be a Menace to South Central While Drinking Your Juice in the Hood 6.5\n",
      "Largo Winch II 6.1\n",
      "The Wedding Ringer 6.6\n",
      "Next Friday 6.1\n"
     ]
    }
   ],
   "source": [
    "for qid in data['qid'][:10]:\n",
    "    qid_s = qid.split('/')[-1]\n",
    "    movie = ent2lbl[WD[qid_s]]\n",
    "    rating = get_imdb_rating(movie)\n",
    "    print(movie, rating)\n",
    "    data.loc[data['qid'] == qid, 'imdb_rating'] = rating"
   ]
  },
  {
   "cell_type": "code",
   "execution_count": 120,
   "metadata": {},
   "outputs": [
    {
     "data": {
      "text/html": [
       "<div>\n",
       "<style scoped>\n",
       "    .dataframe tbody tr th:only-of-type {\n",
       "        vertical-align: middle;\n",
       "    }\n",
       "\n",
       "    .dataframe tbody tr th {\n",
       "        vertical-align: top;\n",
       "    }\n",
       "\n",
       "    .dataframe thead th {\n",
       "        text-align: right;\n",
       "    }\n",
       "</style>\n",
       "<table border=\"1\" class=\"dataframe\">\n",
       "  <thead>\n",
       "    <tr style=\"text-align: right;\">\n",
       "      <th></th>\n",
       "      <th>qid</th>\n",
       "      <th>plot</th>\n",
       "      <th>imdb_rating</th>\n",
       "    </tr>\n",
       "  </thead>\n",
       "  <tbody>\n",
       "    <tr>\n",
       "      <th>0</th>\n",
       "      <td>http://www.wikidata.org/entity/Q532372</td>\n",
       "      <td>The film opens at a school where a boy is pick...</td>\n",
       "      <td>6.3</td>\n",
       "    </tr>\n",
       "    <tr>\n",
       "      <th>1</th>\n",
       "      <td>http://www.wikidata.org/entity/Q2362333</td>\n",
       "      <td>Billy Tully (Keach), a boxer past his prime, g...</td>\n",
       "      <td>7.3</td>\n",
       "    </tr>\n",
       "    <tr>\n",
       "      <th>2</th>\n",
       "      <td>http://www.wikidata.org/entity/Q1757747</td>\n",
       "      <td>In the far reaches of outer space, two spacesh...</td>\n",
       "      <td>6.2</td>\n",
       "    </tr>\n",
       "    <tr>\n",
       "      <th>3</th>\n",
       "      <td>http://www.wikidata.org/entity/Q2479210</td>\n",
       "      <td>Teenage lovers Jordan White and Amy Blue pick ...</td>\n",
       "      <td>6.0</td>\n",
       "    </tr>\n",
       "    <tr>\n",
       "      <th>4</th>\n",
       "      <td>http://www.wikidata.org/entity/Q1114179</td>\n",
       "      <td>Set in the South Pacific Ocean in the year 189...</td>\n",
       "      <td>5.1</td>\n",
       "    </tr>\n",
       "    <tr>\n",
       "      <th>...</th>\n",
       "      <td>...</td>\n",
       "      <td>...</td>\n",
       "      <td>...</td>\n",
       "    </tr>\n",
       "    <tr>\n",
       "      <th>10362</th>\n",
       "      <td>http://www.wikidata.org/entity/Q4313927</td>\n",
       "      <td>Deven Yuvvraaj (Salman Khan) is a struggling s...</td>\n",
       "      <td>NaN</td>\n",
       "    </tr>\n",
       "    <tr>\n",
       "      <th>10363</th>\n",
       "      <td>http://www.wikidata.org/entity/Q51668</td>\n",
       "      <td>The film opens in Gethsemane at night as Jesus...</td>\n",
       "      <td>NaN</td>\n",
       "    </tr>\n",
       "    <tr>\n",
       "      <th>10364</th>\n",
       "      <td>http://www.wikidata.org/entity/Q1111758</td>\n",
       "      <td>Two white cops, Bob 'Uncle Bob' Hodges (Robert...</td>\n",
       "      <td>NaN</td>\n",
       "    </tr>\n",
       "    <tr>\n",
       "      <th>10365</th>\n",
       "      <td>http://www.wikidata.org/entity/Q40071</td>\n",
       "      <td>The film follows various plot arcs all occurri...</td>\n",
       "      <td>NaN</td>\n",
       "    </tr>\n",
       "    <tr>\n",
       "      <th>10366</th>\n",
       "      <td>http://www.wikidata.org/entity/Q15270932</td>\n",
       "      <td>The story follows the characters of Molly (Ble...</td>\n",
       "      <td>NaN</td>\n",
       "    </tr>\n",
       "  </tbody>\n",
       "</table>\n",
       "<p>10367 rows × 3 columns</p>\n",
       "</div>"
      ],
      "text/plain": [
       "                                            qid  \\\n",
       "0        http://www.wikidata.org/entity/Q532372   \n",
       "1       http://www.wikidata.org/entity/Q2362333   \n",
       "2       http://www.wikidata.org/entity/Q1757747   \n",
       "3       http://www.wikidata.org/entity/Q2479210   \n",
       "4       http://www.wikidata.org/entity/Q1114179   \n",
       "...                                         ...   \n",
       "10362   http://www.wikidata.org/entity/Q4313927   \n",
       "10363     http://www.wikidata.org/entity/Q51668   \n",
       "10364   http://www.wikidata.org/entity/Q1111758   \n",
       "10365     http://www.wikidata.org/entity/Q40071   \n",
       "10366  http://www.wikidata.org/entity/Q15270932   \n",
       "\n",
       "                                                    plot  imdb_rating  \n",
       "0      The film opens at a school where a boy is pick...          6.3  \n",
       "1      Billy Tully (Keach), a boxer past his prime, g...          7.3  \n",
       "2      In the far reaches of outer space, two spacesh...          6.2  \n",
       "3      Teenage lovers Jordan White and Amy Blue pick ...          6.0  \n",
       "4      Set in the South Pacific Ocean in the year 189...          5.1  \n",
       "...                                                  ...          ...  \n",
       "10362  Deven Yuvvraaj (Salman Khan) is a struggling s...          NaN  \n",
       "10363  The film opens in Gethsemane at night as Jesus...          NaN  \n",
       "10364  Two white cops, Bob 'Uncle Bob' Hodges (Robert...          NaN  \n",
       "10365  The film follows various plot arcs all occurri...          NaN  \n",
       "10366  The story follows the characters of Molly (Ble...          NaN  \n",
       "\n",
       "[10367 rows x 3 columns]"
      ]
     },
     "execution_count": 120,
     "metadata": {},
     "output_type": "execute_result"
    }
   ],
   "source": [
    "data"
   ]
  },
  {
   "cell_type": "code",
   "execution_count": null,
   "metadata": {},
   "outputs": [
    {
     "data": {
      "text/plain": [
       "qid\n",
       "http://www.wikidata.org/entity/Q532372          0\n",
       "http://www.wikidata.org/entity/Q2362333         1\n",
       "http://www.wikidata.org/entity/Q1757747         2\n",
       "http://www.wikidata.org/entity/Q2479210         3\n",
       "http://www.wikidata.org/entity/Q1114179         4\n",
       "                                            ...  \n",
       "http://www.wikidata.org/entity/Q4313927     10362\n",
       "http://www.wikidata.org/entity/Q51668       10363\n",
       "http://www.wikidata.org/entity/Q1111758     10364\n",
       "http://www.wikidata.org/entity/Q40071       10365\n",
       "http://www.wikidata.org/entity/Q15270932    10366\n",
       "Length: 10367, dtype: int64"
      ]
     },
     "execution_count": 3,
     "metadata": {},
     "output_type": "execute_result"
    }
   ],
   "source": [
    "indices = pd.Series(data.index, index=data['qid']).drop_duplicates()\n",
    "indices"
   ]
  },
  {
   "cell_type": "code",
   "execution_count": null,
   "metadata": {},
   "outputs": [],
   "source": [
    "# build a recommender system based on dataset and TF-IDF vectorizer\n",
    "# Path: Jupyter Notebooks/Recommender.ipynb\n",
    "# load required libraries\n",
    "from sklearn.feature_extraction.text import TfidfVectorizer\n",
    "from sklearn.metrics.pairwise import linear_kernel\n",
    "\n",
    "# load the dataset from data/recommender/plots.csv\n",
    "data = pd.read_csv('../data/recommender/plots.csv')\n",
    "\n",
    "# build a TF-IDF vectorizer\n",
    "tfidf = TfidfVectorizer(stop_words='english')\n",
    "\n",
    "# replace NaN with empty string\n",
    "data['plot'].fillna('', inplace=True)\n",
    "\n",
    "# construct the required TF-IDF matrix by fitting and transforming the data\n",
    "tfidf_matrix = tfidf.fit_transform(data['plot'])\n",
    "\n",
    "# compute the cosine similarity matrix\n",
    "cosine_sim = linear_kernel(tfidf_matrix, tfidf_matrix)\n",
    "\n",
    "# build a 1-dimensional array with movie titles\n",
    "indices = pd.Series(data.index, index=data['qid']).drop_duplicates()\n"
   ]
  },
  {
   "cell_type": "code",
   "execution_count": null,
   "metadata": {},
   "outputs": [],
   "source": [
    "# dump the cosine similarity matrix and indices into pickle files\n",
    "import pickle\n",
    "pickle.dump(cosine_sim, open('../data/recommender/cosine_sim.pickle', 'wb'))\n",
    "pickle.dump(indices, open('../data/recommender/indices.pickle', 'wb'))"
   ]
  },
  {
   "cell_type": "code",
   "execution_count": 56,
   "metadata": {},
   "outputs": [
    {
     "name": "stdout",
     "output_type": "stream",
     "text": [
      "(10367, 10367)\n",
      "(10367, 10367)\n"
     ]
    }
   ],
   "source": [
    "# build a recommender system based on dataset and TF-IDF vectorizer\n",
    "# Path: Jupyter Notebooks/Recommender.ipynb\n",
    "# load required libraries\n",
    "import pandas as pd\n",
    "\n",
    "from sklearn.feature_extraction.text import TfidfVectorizer\n",
    "from sklearn.metrics.pairwise import linear_kernel\n",
    "\n",
    "# load the dataset from data/recommender/plots.csv\n",
    "data = pd.read_csv('../data/recommender/plots_expanded.csv')\n",
    "\n",
    "# replace NaN with empty string\n",
    "data.fillna('', inplace=True)\n",
    "\n",
    "features = []\n",
    "for feat in [data['Genres'], data['Directors']]:\n",
    "    # build a TF-IDF vectorizer\n",
    "    tfidf = TfidfVectorizer(stop_words='english')\n",
    "    # construct the required TF-IDF matrices by fitting and transforming the features\n",
    "    tfidf_matrix = tfidf.fit_transform(feat)\n",
    "    # compute the cosine similarity matrix\n",
    "    feature = linear_kernel(tfidf_matrix, tfidf_matrix)\n",
    "    features.append(feature)\n",
    "\n",
    "for feature in features:\n",
    "    print(feature.shape)"
   ]
  },
  {
   "cell_type": "code",
   "execution_count": 62,
   "metadata": {},
   "outputs": [],
   "source": [
    "# learn the hyperparameters\n",
    "import numpy as np\n",
    "from sklearn.model_selection import train_test_split\n",
    "from sklearn.metrics import mean_squared_error\n",
    "from sklearn.metrics import mean_absolute_error\n",
    "from sklearn.metrics import r2_score\n",
    "\n",
    "# split the dataset into train and test set\n",
    "X_train, X_test, y_train, y_test = train_test_split(\n",
    "    cosine_sim, data['imdb_rating'], test_size=0.2, random_state=42)\n",
    "\n",
    "# define the loss function\n",
    "def loss(y_true, y_pred):\n",
    "    return mean_squared_error(y_true, y_pred)\n",
    "\n",
    "# define the evaluation function\n",
    "def evaluate(y_true, y_pred):\n",
    "    print('MSE: ', mean_squared_error(y_true, y_pred))\n",
    "    print('MAE: ', mean_absolute_error(y_true, y_pred))\n",
    "    print('R2: ', r2_score(y_true, y_pred))\n",
    "\n",
    "# define the hyperparameter search space\n",
    "h1 = np.linspace(0, 1, 11)\n",
    "h2 = np.linspace(0, 1, 11)\n",
    "h3 = np.linspace(0, 1, 11)\n",
    "\n",
    "# define the best hyperparameters\n",
    "best_h1 = 0\n",
    "best_h2 = 0\n",
    "best_h3 = 0\n",
    "best_loss = np.inf\n",
    "\n",
    "# iterate over all hyperparameter combinations\n",
    "for h1 in h1:\n",
    "    for h2 in h2:\n",
    "        for h3 in h3:\n",
    "            # compute the cosine similarity matrix\n",
    "            cosine_sim = (plot_feature * h1) + (features[0] * h2) + (features[1] * h3)\n",
    "            # split the dataset into train and test set\n",
    "            X_train, X_test, y_train, y_test = train_test_split(\n",
    "                cosine_sim, data['imdb_rating'], test_size=0.2, random_state=42)\n",
    "            # train the model\n",
    "            model.fit(X_train, y_train)\n",
    "            # predict the test set\n",
    "            y_pred = model.predict(X_test)\n",
    "            # compute the loss\n",
    "            l = loss(y_test, y_pred)\n",
    "            # check if the loss is better than the best loss\n",
    "            if l < best_loss:\n",
    "                # update the best loss\n",
    "                best_loss = l\n",
    "                # update the best hyperparameters\n",
    "                best_h1 = h1\n",
    "                best_h2 = h2\n",
    "                best_h3 = h3\n",
    "\n",
    "# print the best hyperparameters\n",
    "print('Best h1: ', best_h1)\n",
    "print('Best h2: ', best_h2)\n",
    "print('Best h3: ', best_h3)\n",
    "\n",
    "# compute the cosine similarity matrix\n",
    "cosine_sim = (plot_feature * best_h1) + (features[0] * best_h2) + (features[1] * best_h3)"
   ]
  },
  {
   "cell_type": "code",
   "execution_count": 67,
   "metadata": {},
   "outputs": [],
   "source": [
    "# compute the cosine similarity matrix\n",
    "cosine_sim = (plot_feature * 0.5) + (features[0] * 0.3) + (features[1] * 0.2)"
   ]
  },
  {
   "cell_type": "code",
   "execution_count": 49,
   "metadata": {},
   "outputs": [],
   "source": [
    "# load the cosine similarity matrix and indices from pickle files\n",
    "import pickle\n",
    "plot_feature = pickle.load(open('../data/recommender/cosine_sim.pickle', 'rb'))\n",
    "indices = pickle.load(open('../data/recommender/indices.pickle', 'rb'))\n"
   ]
  },
  {
   "cell_type": "code",
   "execution_count": 73,
   "metadata": {},
   "outputs": [],
   "source": [
    "# load the dataset from data/recommender/plots.csv\n",
    "data = pd.read_csv('../data/recommender/plots.csv')"
   ]
  },
  {
   "cell_type": "code",
   "execution_count": 63,
   "metadata": {},
   "outputs": [],
   "source": [
    "# function that takes in movie title as input and outputs most similar movies\n",
    "def get_recommendations(title, cosine_sim=cosine_sim):\n",
    "    # get the index of the movie that matches the title\n",
    "    idx = indices[title]\n",
    "\n",
    "    # get the pairwsie similarity scores of all movies with that movie\n",
    "    sim_scores = list(enumerate(cosine_sim[idx]))\n",
    "\n",
    "    # sort the movies based on the similarity scores\n",
    "    sim_scores = sorted(sim_scores, key=lambda x: x[1], reverse=True)\n",
    "\n",
    "    # get the scores of the 10 most similar movies\n",
    "    sim_scores = sim_scores[1:11]\n",
    "\n",
    "    # get the movie indices\n",
    "    movie_indices = [i[0] for i in sim_scores]\n",
    "\n",
    "    # return the top 10 most similar movies\n",
    "    return data['qid'].iloc[movie_indices]"
   ]
  },
  {
   "cell_type": "code",
   "execution_count": 68,
   "metadata": {},
   "outputs": [
    {
     "data": {
      "text/plain": [
       "6384    http://www.wikidata.org/entity/Q18602670\n",
       "5272      http://www.wikidata.org/entity/Q106571\n",
       "5072      http://www.wikidata.org/entity/Q204398\n",
       "572       http://www.wikidata.org/entity/Q181540\n",
       "6550      http://www.wikidata.org/entity/Q107894\n",
       "4899      http://www.wikidata.org/entity/Q180279\n",
       "6810      http://www.wikidata.org/entity/Q102754\n",
       "4299      http://www.wikidata.org/entity/Q212145\n",
       "2989      http://www.wikidata.org/entity/Q332330\n",
       "2677      http://www.wikidata.org/entity/Q151904\n",
       "Name: qid, dtype: object"
      ]
     },
     "execution_count": 68,
     "metadata": {},
     "output_type": "execute_result"
    }
   ],
   "source": [
    "get_recommendations('http://www.wikidata.org/entity/Q4941')"
   ]
  }
 ],
 "metadata": {
  "kernelspec": {
   "display_name": "Python 3.10.2 ('vimJupy')",
   "language": "python",
   "name": "python3"
  },
  "language_info": {
   "codemirror_mode": {
    "name": "ipython",
    "version": 3
   },
   "file_extension": ".py",
   "mimetype": "text/x-python",
   "name": "python",
   "nbconvert_exporter": "python",
   "pygments_lexer": "ipython3",
   "version": "3.10.2 (main, Feb 21 2022, 10:30:21) [GCC 9.3.0]"
  },
  "orig_nbformat": 4,
  "vscode": {
   "interpreter": {
    "hash": "f0daf8fb9a4ebe6f1131ce66d2ca2270ce390dc95e8d56679d9744e321329684"
   }
  }
 },
 "nbformat": 4,
 "nbformat_minor": 2
}

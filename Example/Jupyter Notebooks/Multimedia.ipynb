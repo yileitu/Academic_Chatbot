{
 "cells": [
  {
   "cell_type": "markdown",
   "metadata": {},
   "source": [
    "# Multimodal Questions"
   ]
  },
  {
   "cell_type": "code",
   "execution_count": 91,
   "metadata": {},
   "outputs": [],
   "source": [
    "import pickle\n",
    "import os\n",
    "import json\n",
    "import random\n",
    "import pickle"
   ]
  },
  {
   "cell_type": "code",
   "execution_count": 2,
   "metadata": {},
   "outputs": [],
   "source": [
    "os.chdir(\"../data/Multimedia/\")"
   ]
  },
  {
   "cell_type": "code",
   "execution_count": 7,
   "metadata": {},
   "outputs": [],
   "source": [
    "with open(\"images.json\", \"r\") as f:\n",
    "    images = json.load(f)"
   ]
  },
  {
   "cell_type": "code",
   "execution_count": null,
   "metadata": {},
   "outputs": [],
   "source": [
    "# load the images\n",
    "with open(\"../data/Multimedia/images.pickle\", \"rb\") as f:\n",
    "    images = pickle.load(f)"
   ]
  },
  {
   "cell_type": "code",
   "execution_count": 93,
   "metadata": {},
   "outputs": [
    {
     "data": {
      "text/plain": [
       "3155532"
      ]
     },
     "execution_count": 93,
     "metadata": {},
     "output_type": "execute_result"
    }
   ],
   "source": [
    "len(images)"
   ]
  },
  {
   "cell_type": "code",
   "execution_count": 94,
   "metadata": {},
   "outputs": [],
   "source": [
    "types = []\n",
    "for image in images:\n",
    "    if image[\"type\"] not in types:\n",
    "        types.append(image[\"type\"])"
   ]
  },
  {
   "cell_type": "code",
   "execution_count": 95,
   "metadata": {},
   "outputs": [
    {
     "data": {
      "text/plain": [
       "['behind_the_scenes',\n",
       " 'still_frame',\n",
       " 'publicity',\n",
       " 'event',\n",
       " 'poster',\n",
       " 'production_art',\n",
       " 'product',\n",
       " 'unknown',\n",
       " 'user_avatar']"
      ]
     },
     "execution_count": 95,
     "metadata": {},
     "output_type": "execute_result"
    }
   ],
   "source": [
    "types"
   ]
  },
  {
   "cell_type": "code",
   "execution_count": 11,
   "metadata": {},
   "outputs": [
    {
     "data": {
      "text/html": [
       "<img src=\"https://files.ifi.uzh.ch/ddis/teaching/2021/ATAI/dataset/movienet/images/3459/rm537652736.jpg\"/>"
      ],
      "text/plain": [
       "<IPython.core.display.Image object>"
      ]
     },
     "execution_count": 11,
     "metadata": {},
     "output_type": "execute_result"
    }
   ],
   "source": [
    "from IPython.display import Image\n",
    "\n",
    "url = \"https://files.ifi.uzh.ch/ddis/teaching/2021/ATAI/dataset/movienet/images/3459/rm537652736.jpg\"\n",
    "Image(url=url)"
   ]
  },
  {
   "cell_type": "code",
   "execution_count": 98,
   "metadata": {},
   "outputs": [],
   "source": [
    "def image_finder(IMDB_id, movie_id, images):\n",
    "    \"\"\"\n",
    "    Find the corresponding image based on the JSON file\n",
    "    \"\"\"\n",
    "    image_url = None\n",
    "    while image_url == None:\n",
    "        image = random.choice(images)\n",
    "        if IMDB_id in image[\"cast\"] and len(image[\"cast\"]) == 1 and movie_id in image[\"movie\"] and image['type'] in ['poster', 'still_frame']:\n",
    "            image_url = image[\"img\"]\n",
    "            return f\"https://files.ifi.uzh.ch/ddis/teaching/2021/ATAI/dataset/movienet/images/{image_url}\"\n",
    "        # elif IMDB_id in image[\"cast\"] and len(image[\"cast\"]) == 1 and image[\"type\"] == \"still_frame\":\n",
    "        #     image_url = image[\"img\"]\n",
    "        #     return f\"https://files.ifi.uzh.ch/ddis/teaching/2021/ATAI/dataset/movienet/images/{image_url}\"\n",
    "        # elif IMDB_id in image[\"cast\"] and len(image[\"cast\"]) == 1:\n",
    "        #     image_url = image[\"img\"]\n",
    "        #     return f\"https://files.ifi.uzh.ch/ddis/teaching/2021/ATAI/dataset/movienet/images/{image_url}\"\n",
    "    return \"Not found\""
   ]
  },
  {
   "cell_type": "code",
   "execution_count": 12,
   "metadata": {},
   "outputs": [],
   "source": [
    "def image_finder1(IMDB_id, movie_id, images):\n",
    "    \"\"\"\n",
    "    Find the corresponding image based on the JSON file\n",
    "    \"\"\"\n",
    "    for image in images:\n",
    "        if IMDB_id in image[\"cast\"] and len(image[\"cast\"]) == 1 and movie_id in image[\"movie\"]:\n",
    "            image_url = image[\"img\"]\n",
    "            return f\"https://files.ifi.uzh.ch/ddis/teaching/2021/ATAI/dataset/movienet/images/{image_url}\"\n",
    "        # elif IMDB_id in image[\"cast\"] and len(image[\"cast\"]) == 1 and image[\"type\"] == \"still_frame\":\n",
    "        #     image_url = image[\"img\"]\n",
    "        #     return f\"https://files.ifi.uzh.ch/ddis/teaching/2021/ATAI/dataset/movienet/images/{image_url}\"\n",
    "        # elif IMDB_id in image[\"cast\"] and len(image[\"cast\"]) == 1:\n",
    "        #     image_url = image[\"img\"]\n",
    "        #     return f\"https://files.ifi.uzh.ch/ddis/teaching/2021/ATAI/dataset/movienet/images/{image_url}\"\n",
    "    return \"Not found\""
   ]
  },
  {
   "cell_type": "code",
   "execution_count": 13,
   "metadata": {},
   "outputs": [
    {
     "data": {
      "text/html": [
       "<img src=\"Not found\"/>"
      ],
      "text/plain": [
       "<IPython.core.display.Image object>"
      ]
     },
     "execution_count": 13,
     "metadata": {},
     "output_type": "execute_result"
    }
   ],
   "source": [
    "Image(url=image_finder1(\"nm0000158\", \"tt0092732\", images))"
   ]
  },
  {
   "cell_type": "code",
   "execution_count": 62,
   "metadata": {},
   "outputs": [
    {
     "name": "stdout",
     "output_type": "stream",
     "text": [
      "https://files.ifi.uzh.ch/ddis/teaching/2021/ATAI/dataset/movienet/images/0477/rm1959003648.jpg\n"
     ]
    }
   ],
   "source": [
    "print(image_finder(\"nm0185819\", \"tt1074638\", images))"
   ]
  },
  {
   "cell_type": "code",
   "execution_count": 102,
   "metadata": {},
   "outputs": [
    {
     "data": {
      "text/html": [
       "<img src=\"https://files.ifi.uzh.ch/ddis/teaching/2021/ATAI/dataset/movienet/images/3344/rm4112951552.jpg\"/>"
      ],
      "text/plain": [
       "<IPython.core.display.Image object>"
      ]
     },
     "execution_count": 102,
     "metadata": {},
     "output_type": "execute_result"
    }
   ],
   "source": [
    "Image(url=image_finder(\"nm0185819\", \"tt1074638\", images))"
   ]
  },
  {
   "cell_type": "code",
   "execution_count": 114,
   "metadata": {},
   "outputs": [
    {
     "data": {
      "text/html": [
       "<img src=\"https://files.ifi.uzh.ch/ddis/teaching/2021/ATAI/dataset/movienet/images/2928/rm1042145280.jpg\"/>"
      ],
      "text/plain": [
       "<IPython.core.display.Image object>"
      ]
     },
     "execution_count": 114,
     "metadata": {},
     "output_type": "execute_result"
    }
   ],
   "source": [
    "Image(url=image_finder(\"nm0000138\", \"tt1663202\", images))"
   ]
  },
  {
   "cell_type": "code",
   "execution_count": null,
   "metadata": {},
   "outputs": [],
   "source": [
    "Image(url=image_finder(\"nm0000932\", images))"
   ]
  }
 ],
 "metadata": {
  "kernelspec": {
   "display_name": "Python 3.10.2 ('vimJupy')",
   "language": "python",
   "name": "python3"
  },
  "language_info": {
   "codemirror_mode": {
    "name": "ipython",
    "version": 3
   },
   "file_extension": ".py",
   "mimetype": "text/x-python",
   "name": "python",
   "nbconvert_exporter": "python",
   "pygments_lexer": "ipython3",
   "version": "3.10.2 (main, Feb 21 2022, 10:30:21) [GCC 9.3.0]"
  },
  "orig_nbformat": 4,
  "vscode": {
   "interpreter": {
    "hash": "f0daf8fb9a4ebe6f1131ce66d2ca2270ce390dc95e8d56679d9744e321329684"
   }
  }
 },
 "nbformat": 4,
 "nbformat_minor": 2
}

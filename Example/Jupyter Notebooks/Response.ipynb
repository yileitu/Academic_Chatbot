{
 "cells": [
  {
   "cell_type": "code",
   "execution_count": 5,
   "metadata": {},
   "outputs": [
    {
     "name": "stderr",
     "output_type": "stream",
     "text": [
      "The attention mask and the pad token id were not set. As a consequence, you may observe unexpected behavior. Please pass your input's `attention_mask` to obtain reliable results.\n",
      "Setting `pad_token_id` to `eos_token_id`:50256 for open-end generation.\n"
     ]
    },
    {
     "name": "stdout",
     "output_type": "stream",
     "text": [
      " remind me to tell my friend who the director of the movie 'the godfather' is tony scott \n"
     ]
    }
   ],
   "source": [
    "from transformers import AutoTokenizer, AutoModelWithLMHead\n",
    "tokenizer = AutoTokenizer.from_pretrained(\"salesken/natural_rephrase\")\n",
    "model = AutoModelWithLMHead.from_pretrained(\"salesken/natural_rephrase\")\n",
    "\n",
    "\n",
    "Input_query=\"Hi, please remind me to tell my friend who the director of the movie 'The Godfather' is\"\n",
    "query= Input_query + \" Tony Scott \"\n",
    "input_ids = tokenizer.encode(query.lower(), return_tensors='pt')\n",
    "sample_outputs = model.generate(input_ids,\n",
    "                            do_sample=True,\n",
    "                            num_beams=1, \n",
    "                            max_length=len(Input_query),\n",
    "                            temperature=0.2,\n",
    "                            top_k = 10,\n",
    "                            num_return_sequences=1)\n",
    "for i in range(len(sample_outputs)):\n",
    "    result = tokenizer.decode(sample_outputs[i], skip_special_tokens=True).split('||')[0].split('~~')[1]\n",
    "    print(result)\n"
   ]
  }
 ],
 "metadata": {
  "kernelspec": {
   "display_name": "Python 3.10.2 ('vimJupy')",
   "language": "python",
   "name": "python3"
  },
  "language_info": {
   "codemirror_mode": {
    "name": "ipython",
    "version": 3
   },
   "file_extension": ".py",
   "mimetype": "text/x-python",
   "name": "python",
   "nbconvert_exporter": "python",
   "pygments_lexer": "ipython3",
   "version": "3.10.2"
  },
  "orig_nbformat": 4,
  "vscode": {
   "interpreter": {
    "hash": "f0daf8fb9a4ebe6f1131ce66d2ca2270ce390dc95e8d56679d9744e321329684"
   }
  }
 },
 "nbformat": 4,
 "nbformat_minor": 2
}

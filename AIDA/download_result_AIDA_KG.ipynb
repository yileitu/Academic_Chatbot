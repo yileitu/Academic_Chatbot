{
 "cells": [
  {
   "cell_type": "code",
   "execution_count": 32,
   "id": "efb0a892",
   "metadata": {},
   "outputs": [],
   "source": [
    "import requests\n",
    "import json\n",
    "\n",
    "# SPARQL Endpoint URL\n",
    "endpoint_url = \"https://aida.kmi.open.ac.uk/sparqlendpoint\"\n",
    "\n",
    "# Your SPARQL Query: The following query returns the papers associated with the topic Semantic Web \n",
    "# and written in collaboration by authors from industry and academia, where those from academia are more than 80%.\n",
    "query = \"\"\"\n",
    "PREFIX aida:<http://aida.kmi.open.ac.uk/ontology#>\n",
    "PREFIX cso: <http://cso.kmi.open.ac.uk/topics/>\n",
    "PREFIX schema: <http://schema.org/>\n",
    "SELECT ?paper ?ind (count(?author) as ?nauthor)\n",
    "FROM <http://aida.kmi.open.ac.uk/resource>\n",
    "WHERE {\n",
    "    ?paper aida:hasTopic cso:semantic_web .\n",
    "    ?paper aida:hasIndustrialSector ?ind .\n",
    "    ?paper aida:hasPercentageOfAcademia ?x .\n",
    "    ?paper schema:creator ?author .\n",
    "    FILTER(?x>80)\n",
    "}\n",
    "ORDER BY ?paper\n",
    "\"\"\"\n",
    "\n",
    "# finding more examples of queries, plz check https://aida.kmi.open.ac.uk/sparql/"
   ]
  },
  {
   "cell_type": "code",
   "execution_count": 33,
   "id": "fe08000a",
   "metadata": {},
   "outputs": [
    {
     "name": "stdout",
     "output_type": "stream",
     "text": [
      "Results have been saved to sparql_results.json\n"
     ]
    }
   ],
   "source": [
    "\n",
    "# Headers to request JSON response\n",
    "headers = {\n",
    "    \"Accept\": \"application/sparql-results+json\"\n",
    "}\n",
    "\n",
    "# Make the HTTP GET request\n",
    "response = requests.get(endpoint_url, headers=headers, params={\"query\": query})\n",
    "\n",
    "# Check if the request was successful\n",
    "if response.status_code == 200:\n",
    "    # Parse the JSON result\n",
    "    data = response.json()\n",
    "    \n",
    "    # Define the path for the output file\n",
    "    output_file_path = 'sparql_results.json'\n",
    "    \n",
    "    # Save the JSON data to a file\n",
    "    with open(output_file_path, 'w') as outfile:\n",
    "        json.dump(data, outfile)\n",
    "        \n",
    "    print(f\"Results have been saved to {output_file_path}\")\n",
    "else:\n",
    "    print(\"Failed to retrieve data:\", response.status_code)\n",
    "    print(response.text)\n",
    "\n"
   ]
  },
  {
   "cell_type": "code",
   "execution_count": null,
   "id": "b96e931b",
   "metadata": {},
   "outputs": [],
   "source": []
  }
 ],
 "metadata": {
  "kernelspec": {
   "display_name": "Python 3 (ipykernel)",
   "language": "python",
   "name": "python3"
  },
  "language_info": {
   "codemirror_mode": {
    "name": "ipython",
    "version": 3
   },
   "file_extension": ".py",
   "mimetype": "text/x-python",
   "name": "python",
   "nbconvert_exporter": "python",
   "pygments_lexer": "ipython3",
   "version": "3.10.9"
  }
 },
 "nbformat": 4,
 "nbformat_minor": 5
}
